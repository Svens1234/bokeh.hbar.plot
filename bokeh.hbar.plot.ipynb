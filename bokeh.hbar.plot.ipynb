{
 "cells": [
  {
   "cell_type": "code",
   "execution_count": 10,
   "id": "fe6765e7",
   "metadata": {},
   "outputs": [],
   "source": [
    "from bokeh.plotting import figure, output_file, show\n",
    "import pandas as pd"
   ]
  },
  {
   "cell_type": "code",
   "execution_count": 11,
   "id": "984328aa",
   "metadata": {},
   "outputs": [],
   "source": [
    "df=pd.read_csv(r\"C:\\Users\\German\\Desktop\\cars.csv\")"
   ]
  },
  {
   "cell_type": "code",
   "execution_count": 12,
   "id": "8d5fbe15",
   "metadata": {},
   "outputs": [
    {
     "data": {
      "text/html": [
       "<div>\n",
       "<style scoped>\n",
       "    .dataframe tbody tr th:only-of-type {\n",
       "        vertical-align: middle;\n",
       "    }\n",
       "\n",
       "    .dataframe tbody tr th {\n",
       "        vertical-align: top;\n",
       "    }\n",
       "\n",
       "    .dataframe thead th {\n",
       "        text-align: right;\n",
       "    }\n",
       "</style>\n",
       "<table border=\"1\" class=\"dataframe\">\n",
       "  <thead>\n",
       "    <tr style=\"text-align: right;\">\n",
       "      <th></th>\n",
       "      <th>Car</th>\n",
       "      <th>Horsepower</th>\n",
       "      <th>Price</th>\n",
       "      <th>Image</th>\n",
       "    </tr>\n",
       "  </thead>\n",
       "  <tbody>\n",
       "    <tr>\n",
       "      <th>0</th>\n",
       "      <td>Hennessey Venom F5</td>\n",
       "      <td>1600</td>\n",
       "      <td>$1.6M</td>\n",
       "      <td>https://autowise.com/wp-content/uploads/2018/0...</td>\n",
       "    </tr>\n",
       "    <tr>\n",
       "      <th>1</th>\n",
       "      <td>Koenigsegg Regera</td>\n",
       "      <td>1500</td>\n",
       "      <td>$2M</td>\n",
       "      <td>https://autowise.com/wp-content/uploads/2018/0...</td>\n",
       "    </tr>\n",
       "    <tr>\n",
       "      <th>2</th>\n",
       "      <td>Bugatti Chiron</td>\n",
       "      <td>1479</td>\n",
       "      <td>$3.4M</td>\n",
       "      <td>https://autowise.com/wp-content/uploads/2018/0...</td>\n",
       "    </tr>\n",
       "    <tr>\n",
       "      <th>3</th>\n",
       "      <td>NIO EP9</td>\n",
       "      <td>1341</td>\n",
       "      <td>1.48M</td>\n",
       "      <td>https://autowise.com/wp-content/uploads/2018/0...</td>\n",
       "    </tr>\n",
       "    <tr>\n",
       "      <th>4</th>\n",
       "      <td>Rimac Concept One</td>\n",
       "      <td>1224</td>\n",
       "      <td>$1M</td>\n",
       "      <td>https://autowise.com/wp-content/uploads/2018/0...</td>\n",
       "    </tr>\n",
       "    <tr>\n",
       "      <th>5</th>\n",
       "      <td>Aston Martin Valkyrie</td>\n",
       "      <td>1130</td>\n",
       "      <td>$3.2M</td>\n",
       "      <td>https://autowise.com/wp-content/uploads/2018/0...</td>\n",
       "    </tr>\n",
       "    <tr>\n",
       "      <th>6</th>\n",
       "      <td>McLaren P1 LM</td>\n",
       "      <td>986</td>\n",
       "      <td>$3.7M</td>\n",
       "      <td>https://autowise.com/wp-content/uploads/2018/0...</td>\n",
       "    </tr>\n",
       "    <tr>\n",
       "      <th>7</th>\n",
       "      <td>Ferrari LaFerrari</td>\n",
       "      <td>950</td>\n",
       "      <td>$1M</td>\n",
       "      <td>https://autowise.com/wp-content/uploads/2018/0...</td>\n",
       "    </tr>\n",
       "  </tbody>\n",
       "</table>\n",
       "</div>"
      ],
      "text/plain": [
       "                     Car  Horsepower   Price  \\\n",
       "0     Hennessey Venom F5        1600   $1.6M   \n",
       "1      Koenigsegg Regera        1500     $2M   \n",
       "2         Bugatti Chiron        1479   $3.4M   \n",
       "3                NIO EP9        1341   1.48M   \n",
       "4      Rimac Concept One        1224     $1M   \n",
       "5  Aston Martin Valkyrie        1130   $3.2M   \n",
       "6          McLaren P1 LM         986   $3.7M   \n",
       "7      Ferrari LaFerrari         950     $1M   \n",
       "\n",
       "                                               Image  \n",
       "0  https://autowise.com/wp-content/uploads/2018/0...  \n",
       "1  https://autowise.com/wp-content/uploads/2018/0...  \n",
       "2  https://autowise.com/wp-content/uploads/2018/0...  \n",
       "3  https://autowise.com/wp-content/uploads/2018/0...  \n",
       "4  https://autowise.com/wp-content/uploads/2018/0...  \n",
       "5  https://autowise.com/wp-content/uploads/2018/0...  \n",
       "6  https://autowise.com/wp-content/uploads/2018/0...  \n",
       "7  https://autowise.com/wp-content/uploads/2018/0...  "
      ]
     },
     "execution_count": 12,
     "metadata": {},
     "output_type": "execute_result"
    }
   ],
   "source": [
    "df"
   ]
  },
  {
   "cell_type": "code",
   "execution_count": 13,
   "id": "6f2fa6fa",
   "metadata": {},
   "outputs": [],
   "source": [
    "car=df['Car']\n",
    "hp=df['Horsepower']"
   ]
  },
  {
   "cell_type": "code",
   "execution_count": 14,
   "id": "f19cff39",
   "metadata": {},
   "outputs": [],
   "source": [
    "output_file('index.html')"
   ]
  },
  {
   "cell_type": "code",
   "execution_count": 15,
   "id": "1ca74c46",
   "metadata": {},
   "outputs": [],
   "source": [
    "p=figure(\n",
    "y_range=car,\n",
    "plot_width=800,\n",
    "plot_height=800,     \n",
    "title='Cars with top horsepower',\n",
    "x_axis_label='Horsepower',\n",
    ")"
   ]
  },
  {
   "cell_type": "code",
   "execution_count": 17,
   "id": "3b33465a",
   "metadata": {},
   "outputs": [
    {
     "data": {
      "text/html": [
       "<div style=\"display: table;\"><div style=\"display: table-row;\"><div style=\"display: table-cell;\"><b title=\"bokeh.models.renderers.GlyphRenderer\">GlyphRenderer</b>(</div><div style=\"display: table-cell;\">id&nbsp;=&nbsp;'1091', <span id=\"1094\" style=\"cursor: pointer;\">&hellip;)</span></div></div><div class=\"1093\" style=\"display: none;\"><div style=\"display: table-cell;\"></div><div style=\"display: table-cell;\">coordinates&nbsp;=&nbsp;None,</div></div><div class=\"1093\" style=\"display: none;\"><div style=\"display: table-cell;\"></div><div style=\"display: table-cell;\">data_source&nbsp;=&nbsp;ColumnDataSource(id='1087', ...),</div></div><div class=\"1093\" style=\"display: none;\"><div style=\"display: table-cell;\"></div><div style=\"display: table-cell;\">glyph&nbsp;=&nbsp;HBar(id='1088', ...),</div></div><div class=\"1093\" style=\"display: none;\"><div style=\"display: table-cell;\"></div><div style=\"display: table-cell;\">group&nbsp;=&nbsp;None,</div></div><div class=\"1093\" style=\"display: none;\"><div style=\"display: table-cell;\"></div><div style=\"display: table-cell;\">hover_glyph&nbsp;=&nbsp;None,</div></div><div class=\"1093\" style=\"display: none;\"><div style=\"display: table-cell;\"></div><div style=\"display: table-cell;\">js_event_callbacks&nbsp;=&nbsp;{},</div></div><div class=\"1093\" style=\"display: none;\"><div style=\"display: table-cell;\"></div><div style=\"display: table-cell;\">js_property_callbacks&nbsp;=&nbsp;{},</div></div><div class=\"1093\" style=\"display: none;\"><div style=\"display: table-cell;\"></div><div style=\"display: table-cell;\">level&nbsp;=&nbsp;'glyph',</div></div><div class=\"1093\" style=\"display: none;\"><div style=\"display: table-cell;\"></div><div style=\"display: table-cell;\">muted&nbsp;=&nbsp;False,</div></div><div class=\"1093\" style=\"display: none;\"><div style=\"display: table-cell;\"></div><div style=\"display: table-cell;\">muted_glyph&nbsp;=&nbsp;HBar(id='1090', ...),</div></div><div class=\"1093\" style=\"display: none;\"><div style=\"display: table-cell;\"></div><div style=\"display: table-cell;\">name&nbsp;=&nbsp;None,</div></div><div class=\"1093\" style=\"display: none;\"><div style=\"display: table-cell;\"></div><div style=\"display: table-cell;\">nonselection_glyph&nbsp;=&nbsp;HBar(id='1089', ...),</div></div><div class=\"1093\" style=\"display: none;\"><div style=\"display: table-cell;\"></div><div style=\"display: table-cell;\">selection_glyph&nbsp;=&nbsp;'auto',</div></div><div class=\"1093\" style=\"display: none;\"><div style=\"display: table-cell;\"></div><div style=\"display: table-cell;\">subscribed_events&nbsp;=&nbsp;[],</div></div><div class=\"1093\" style=\"display: none;\"><div style=\"display: table-cell;\"></div><div style=\"display: table-cell;\">syncable&nbsp;=&nbsp;True,</div></div><div class=\"1093\" style=\"display: none;\"><div style=\"display: table-cell;\"></div><div style=\"display: table-cell;\">tags&nbsp;=&nbsp;[],</div></div><div class=\"1093\" style=\"display: none;\"><div style=\"display: table-cell;\"></div><div style=\"display: table-cell;\">view&nbsp;=&nbsp;CDSView(id='1092', ...),</div></div><div class=\"1093\" style=\"display: none;\"><div style=\"display: table-cell;\"></div><div style=\"display: table-cell;\">visible&nbsp;=&nbsp;True,</div></div><div class=\"1093\" style=\"display: none;\"><div style=\"display: table-cell;\"></div><div style=\"display: table-cell;\">x_range_name&nbsp;=&nbsp;'default',</div></div><div class=\"1093\" style=\"display: none;\"><div style=\"display: table-cell;\"></div><div style=\"display: table-cell;\">y_range_name&nbsp;=&nbsp;'default')</div></div></div>\n",
       "<script>\n",
       "(function() {\n",
       "  let expanded = false;\n",
       "  const ellipsis = document.getElementById(\"1094\");\n",
       "  ellipsis.addEventListener(\"click\", function() {\n",
       "    const rows = document.getElementsByClassName(\"1093\");\n",
       "    for (let i = 0; i < rows.length; i++) {\n",
       "      const el = rows[i];\n",
       "      el.style.display = expanded ? \"none\" : \"table-row\";\n",
       "    }\n",
       "    ellipsis.innerHTML = expanded ? \"&hellip;)\" : \"&lsaquo;&lsaquo;&lsaquo;\";\n",
       "    expanded = !expanded;\n",
       "  });\n",
       "})();\n",
       "</script>\n"
      ],
      "text/plain": [
       "GlyphRenderer(id='1091', ...)"
      ]
     },
     "execution_count": 17,
     "metadata": {},
     "output_type": "execute_result"
    }
   ],
   "source": [
    "p.hbar(\n",
    "y=car,\n",
    "right=hp,\n",
    "left=0,\n",
    "height=0.4,\n",
    "color='orange',\n",
    "fill_alpha=0.5)"
   ]
  },
  {
   "cell_type": "code",
   "execution_count": 18,
   "id": "6e6a973c",
   "metadata": {},
   "outputs": [],
   "source": [
    "show(p)"
   ]
  },
  {
   "cell_type": "code",
   "execution_count": null,
   "id": "50ded72e",
   "metadata": {},
   "outputs": [],
   "source": []
  }
 ],
 "metadata": {
  "kernelspec": {
   "display_name": "Python 3 (ipykernel)",
   "language": "python",
   "name": "python3"
  },
  "language_info": {
   "codemirror_mode": {
    "name": "ipython",
    "version": 3
   },
   "file_extension": ".py",
   "mimetype": "text/x-python",
   "name": "python",
   "nbconvert_exporter": "python",
   "pygments_lexer": "ipython3",
   "version": "3.8.7"
  }
 },
 "nbformat": 4,
 "nbformat_minor": 5
}
